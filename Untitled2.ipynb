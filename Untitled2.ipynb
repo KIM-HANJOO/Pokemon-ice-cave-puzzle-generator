{
 "cells": [
  {
   "cell_type": "code",
   "execution_count": 1,
   "id": "e7110848",
   "metadata": {},
   "outputs": [
    {
     "name": "stdout",
     "output_type": "stream",
     "text": [
      "[  300.     0.     0.     0.    -0.    -0.    -0. -1200.]\n",
      "3\n",
      "0\n",
      "7\n",
      "0\n"
     ]
    }
   ],
   "source": [
    "# Libraries\n",
    "import numpy as np\n",
    "import matplotlib.pyplot as plt\n",
    "import icecave_functions as ice\n",
    "from random import *\n",
    "\n",
    "from numpy.core.records import array\n",
    "from numpy.lib.stride_tricks import _broadcast_to_dispatcher\n",
    "\n",
    "##############################################################################\n",
    "\n",
    "width = 6\n",
    "length = 6\n",
    "\n",
    "startpoint = np.array([[0, 2], [0, 3]]) # same as (1, 3), (1, 4)\n",
    "endpoint = np.array([[3, width + 1], [4, width + 1]]) # same as (4, 8), (5, 8)\n",
    "\n",
    "initial_rocks = np.array([[1, 1]]) # same as (5, 6)\n",
    "odds_of_rocks = 0.1 # 10% odds of rocks\n",
    "\n",
    "##############################################################################\n",
    "\n",
    "# Plot setups\n",
    "maps = np.zeros((length + 2, width + 2))\n",
    "\n",
    "## set rocks\n",
    "maps[:, 0] = 1\n",
    "maps[:, width + 1] = 1\n",
    "maps[length + 1, :] = 1\n",
    "maps[0, :] = 1\n",
    "\n",
    "for i in range(0, initial_rocks.shape[0]):\n",
    "    maps[initial_rocks[i][0], initial_rocks[i][1]] = 1\n",
    "    \n",
    "for i in range(0, startpoint.shape[0]):\n",
    "    maps[startpoint[i][0], startpoint[i][1]] = 2\n",
    "    \n",
    "for i in range(0, endpoint.shape[0]):\n",
    "    maps[endpoint[i][0], endpoint[i][1]] = 3\n",
    "    \n",
    "##############################################################################\n",
    "\n",
    "horizontal_e = 1\n",
    "horizontal = 1\n",
    "now = [3, 4]\n",
    "keep = 1\n",
    "    \n",
    "\n",
    "\n",
    "keep = ice.endcheck(keep, maps, now, endpoint, horizontal, horizontal_e)\n",
    "print(keep)"
   ]
  },
  {
   "cell_type": "code",
   "execution_count": null,
   "id": "d4be15a4",
   "metadata": {},
   "outputs": [],
   "source": []
  }
 ],
 "metadata": {
  "kernelspec": {
   "display_name": "Python 3",
   "language": "python",
   "name": "python3"
  },
  "language_info": {
   "codemirror_mode": {
    "name": "ipython",
    "version": 3
   },
   "file_extension": ".py",
   "mimetype": "text/x-python",
   "name": "python",
   "nbconvert_exporter": "python",
   "pygments_lexer": "ipython3",
   "version": "3.8.8"
  }
 },
 "nbformat": 4,
 "nbformat_minor": 5
}
