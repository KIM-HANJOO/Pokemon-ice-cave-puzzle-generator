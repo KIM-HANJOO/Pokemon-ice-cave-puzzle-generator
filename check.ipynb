{
 "cells": [
  {
   "cell_type": "code",
   "execution_count": 57,
   "id": "ac693f9b",
   "metadata": {},
   "outputs": [
    {
     "name": "stdout",
     "output_type": "stream",
     "text": [
      "0\n",
      "3\n",
      "[[1. 1. 1. 2. 1. 1. 1. 1.]\n",
      " [1. 0. 0. 0. 0. 0. 0. 1.]\n",
      " [1. 0. 0. 0. 0. 0. 0. 1.]\n",
      " [1. 0. 0. 0. 0. 0. 0. 1.]\n",
      " [1. 0. 0. 0. 0. 0. 0. 1.]\n",
      " [1. 0. 0. 0. 0. 0. 0. 1.]\n",
      " [1. 1. 1. 1. 1. 1. 1. 1.]]\n",
      "[0 3]\n",
      "[[0. 2.]\n",
      " [0. 3.]]\n",
      "[[3. 7.]]\n"
     ]
    }
   ],
   "source": [
    "import numpy as np\n",
    "import matplotlib.pyplot as plt\n",
    "import practice_library as ice\n",
    "from random import *\n",
    "\n",
    "##\n",
    "top = 1\n",
    "bottom = 2\n",
    "left = 3\n",
    "right = 4\n",
    "##\n",
    "\n",
    "width = 6\n",
    "length = 5\n",
    "\n",
    "startpoint = [2, 3] \n",
    "startpoint_place = top\n",
    "\n",
    "endpoint = [3]\n",
    "endpoint_place = right\n",
    "\n",
    "##\n",
    "\n",
    "startpoint_maps = np.zeros((len(startpoint) , 2))\n",
    "endpoint_maps = np.zeros((len(endpoint), 2))\n",
    "\n",
    "# set startpoint\n",
    "if startpoint_place == top:\n",
    "    startpoint_maps[:, 0] = 0\n",
    "    startpoint_maps[:, 1] = np.transpose(startpoint)\n",
    "    \n",
    "elif startpoint_place == bottom:\n",
    "    startpoint_maps[:, 0] = length + 1\n",
    "    startpoint_maps[:, 1] = np.transpose(startpoint)\n",
    "    \n",
    "elif startpoint_place == left:\n",
    "    startpoint_maps[:, 0] = np.transpose(startpoint)\n",
    "    startpoint_maps[:, 1] = 0\n",
    "    \n",
    "elif startpoint_place == right:\n",
    "    startpoint_maps[:, 0] = np.transpose(startpoint)\n",
    "    startpoint_maps[:, 1] = width + 1\n",
    "    \n",
    "#set endpoint\n",
    "\n",
    "if endpoint_place == top:\n",
    "    endpoint_maps[:, 0] = 0\n",
    "    endpoint_maps[:, 1] = np.transpose(endpoint)\n",
    "    \n",
    "elif endpoint_place == bottom:\n",
    "    endpoint_maps[:, 0] = length + 1\n",
    "    endpoint_maps[:, 1] = np.transpose(endpoint)\n",
    "    \n",
    "elif startpoint_place == left:\n",
    "    endpoint_maps[:, 0] = np.transpose(endpoint)\n",
    "    endpoint_maps[:, 1] = 0\n",
    "    \n",
    "elif endpoint_place == right:\n",
    "    endpoint_maps[:, 0] = np.transpose(endpoint)\n",
    "    endpoint_maps[:, 1] = width + 1\n",
    "    \n",
    "    \n",
    "#\n",
    "startrand = randint(1, np.shape(startpoint)[0]) - 1\n",
    "startpoint = startpoint_maps[startrand, :]\n",
    "startpoint = startpoint.astype(int)\n",
    "#\n",
    "\n",
    "maps = np.zeros((length + 2, width + 2))\n",
    "maps[0, :] = 1\n",
    "maps[length + 1, :] = 1\n",
    "maps[:, 0] = 1\n",
    "maps[:, width + 1] = 1\n",
    "\n",
    "maps[startpoint[0], startpoint[1]] = 2\n",
    "\n",
    "# maps[int(startpoint[0]), int(startpoint[1])] = 2\n",
    "print(startpoint[0])\n",
    "print(startpoint[1])\n",
    "\n",
    "print(maps)\n",
    "print(startpoint)\n",
    "print(startpoint_maps)\n",
    "print(endpoint_maps)\n",
    "\n",
    "\n",
    "\n"
   ]
  },
  {
   "cell_type": "code",
   "execution_count": 28,
   "id": "c117f76a",
   "metadata": {},
   "outputs": [
    {
     "name": "stdout",
     "output_type": "stream",
     "text": [
      "2\n",
      "2\n"
     ]
    }
   ],
   "source": [
    "import numpy as np\n",
    "\n",
    "a = [1, 2]\n",
    "print(np.shape(a)[0])\n",
    "print(len(a))"
   ]
  }
 ],
 "metadata": {
  "kernelspec": {
   "display_name": "Python 3",
   "language": "python",
   "name": "python3"
  },
  "language_info": {
   "codemirror_mode": {
    "name": "ipython",
    "version": 3
   },
   "file_extension": ".py",
   "mimetype": "text/x-python",
   "name": "python",
   "nbconvert_exporter": "python",
   "pygments_lexer": "ipython3",
   "version": "3.8.8"
  }
 },
 "nbformat": 4,
 "nbformat_minor": 5
}
