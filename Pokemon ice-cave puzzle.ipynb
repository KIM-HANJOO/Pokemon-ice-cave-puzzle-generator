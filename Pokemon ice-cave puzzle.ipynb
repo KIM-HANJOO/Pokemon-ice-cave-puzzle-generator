{
 "cells": [
  {
   "cell_type": "code",
   "execution_count": 55,
   "id": "55352593",
   "metadata": {},
   "outputs": [],
   "source": [
    "# Libraries\n",
    "import numpy as np\n",
    "import matplotlib.pyplot as plt\n",
    "import random\n",
    "# import pygame as pg"
   ]
  },
  {
   "cell_type": "code",
   "execution_count": 56,
   "id": "472cbbf0",
   "metadata": {},
   "outputs": [],
   "source": [
    "##################################################\n",
    "# Set-ups\n",
    "\n",
    "width = 6\n",
    "length = 6\n",
    "\n",
    "startpoint = np.array([[0, 2], [0, 3]]) # same as (1, 3), (1, 4)\n",
    "endpoint = np.array([[3, 7], [4, 7]]) # same as (4, 8), (5, 8)\n",
    "\n",
    "initial_rocks = np.array([[4, 5]]) # same as (5, 6)\n",
    "odds_of_rocks = 0.1 # 10% odds of rocks\n",
    "\n",
    "##################################################"
   ]
  },
  {
   "cell_type": "code",
   "execution_count": 57,
   "id": "e4ca55af",
   "metadata": {},
   "outputs": [
    {
     "name": "stdout",
     "output_type": "stream",
     "text": [
      "[[1. 1. 2. 2. 1. 1. 1. 1.]\n",
      " [1. 0. 0. 0. 0. 0. 0. 1.]\n",
      " [1. 0. 0. 0. 0. 0. 0. 1.]\n",
      " [1. 0. 0. 0. 0. 0. 0. 3.]\n",
      " [1. 0. 0. 0. 0. 1. 0. 3.]\n",
      " [1. 0. 0. 0. 0. 0. 0. 1.]\n",
      " [1. 0. 0. 0. 0. 0. 0. 1.]\n",
      " [1. 1. 1. 1. 1. 1. 1. 1.]]\n",
      "0\n",
      "1\n"
     ]
    }
   ],
   "source": [
    "# Plot setups\n",
    "map = np.zeros((length + 2, width + 2))\n",
    "\n",
    "## set rocks\n",
    "map[:, 0] = 1\n",
    "map[:, width + 1] = 1\n",
    "map[length + 1, :] = 1\n",
    "map[0, :] = 1\n",
    "\n",
    "for i in range(0, initial_rocks.shape[0]):\n",
    "    map[initial_rocks[i][0], initial_rocks[i][1]] = 1\n",
    "    \n",
    "for i in range(0, startpoint.shape[0]):\n",
    "    map[startpoint[i][0], startpoint[i][1]] = 2\n",
    "    \n",
    "for i in range(0, endpoint.shape[0]):\n",
    "    map[endpoint[i][0], endpoint[i][1]] = 3\n",
    "\n",
    "print(map)\n",
    "\n",
    "## randomly set startpoint\n",
    "startpoint = startpoint[randint(1, startpoint.shape[0]) - 1]\n",
    "\n",
    "## check if the start / end move is vertical / horizontal\n",
    "if startpoint[0] == 0:\n",
    "    vertical_s = 1\n",
    "    horizontal_s = 0\n",
    "    \n",
    "elif startpoint[0] == width + 1:\n",
    "    vertical_s = 1\n",
    "    horizontal_s = 0\n",
    "    \n",
    "else:\n",
    "    vertical_s = 0\n",
    "    horizontal_s = 1\n",
    "    \n",
    "if endpoint[0][0] == 0:\n",
    "    vertical_e = 1\n",
    "    horizontal_e = 0\n",
    "    \n",
    "elif endpoint[0][0] == length + 1:\n",
    "    vertical_e = 1\n",
    "    horizontal_e = 0\n",
    "    \n",
    "else:\n",
    "    vertical_e = 0\n",
    "    horizontal_e = 1\n",
    "\n",
    "print(horizontal_s)\n",
    "print(horizontal_e)\n",
    "\n",
    "## set path array, rocks array, etc.\n",
    "keep = 1\n",
    "\n",
    "row = startpoint[0]\n",
    "column = startpoint[1]\n",
    "\n",
    "path = np.zeros([2, 2])\n",
    "path[0] = startpoint\n",
    "num_path = 2\n",
    "\n",
    "rocks = np.zeros([initial_rocks.shape[0], 2])\n",
    "\n",
    "for i in range(1, initial_rocks.shape[0]):\n",
    "    rocks[i - 1] = initial_rocks[i - 1]\n",
    "\n",
    "num_rocks = 1\n",
    "\n",
    "horizontal = horizontal_s\n",
    "vertical = vertical_s"
   ]
  },
  {
   "cell_type": "code",
   "execution_count": 62,
   "id": "af220759",
   "metadata": {},
   "outputs": [
    {
     "name": "stdout",
     "output_type": "stream",
     "text": [
      "0\n",
      "3\n",
      "[[0. 3.]\n",
      " [0. 0.]]\n",
      "[[0. 0.]]\n"
     ]
    }
   ],
   "source": [
    "keep = 1\n",
    "\n",
    "row = startpoint[0]\n",
    "column = startpoint[1]\n",
    "\n",
    "path = np.zeros([2, 2])\n",
    "path[0] = startpoint\n",
    "num_path = 2;\n",
    "\n",
    "rocks = np.zeros([initial_rocks.shape[0], 2])\n",
    "\n",
    "for i in range(1, initial_rocks.shape[0]):\n",
    "    rocks[i - 1] = initial_rocks[i - 1]\n",
    "\n",
    "num_rocks = 1;\n"
   ]
  },
  {
   "cell_type": "code",
   "execution_count": 38,
   "id": "4bf55730",
   "metadata": {},
   "outputs": [],
   "source": [
    "# ice-cave puzzle library"
   ]
  },
  {
   "cell_type": "code",
   "execution_count": 39,
   "id": "237de80b",
   "metadata": {},
   "outputs": [],
   "source": [
    "# Main code\n",
    "while keep == 1:\n",
    "    ## randomly decide the tile from the very-next-path\n",
    "    ### watch 'the very-next-path', check rocks and early paths, than decide\n",
    "    ### after deciding the tile, place the rock at the back of the tile\n",
    "    ### rewrite index, path as 100, rock as 1\n",
    "    ### update the present tile as the tile decided\n",
    "    ###\n",
    "    \n",
    "\n",
    "\n"
   ]
  }
 ],
 "metadata": {
  "kernelspec": {
   "display_name": "Python 3",
   "language": "python",
   "name": "python3"
  },
  "language_info": {
   "codemirror_mode": {
    "name": "ipython",
    "version": 3
   },
   "file_extension": ".py",
   "mimetype": "text/x-python",
   "name": "python",
   "nbconvert_exporter": "python",
   "pygments_lexer": "ipython3",
   "version": "3.8.8"
  }
 },
 "nbformat": 4,
 "nbformat_minor": 5
}
